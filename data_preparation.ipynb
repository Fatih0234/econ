{
 "cells": [
  {
   "cell_type": "code",
   "execution_count": 14,
   "metadata": {},
   "outputs": [],
   "source": [
    "# Importing necessary libraries\n",
    "import pandas as pd\n",
    "import numpy as np\n",
    "import wbgapi as wb"
   ]
  },
  {
   "cell_type": "code",
   "execution_count": 15,
   "metadata": {},
   "outputs": [
    {
     "name": "stdout",
     "output_type": "stream",
     "text": [
      "id                 value\n",
      "-----------------  ------------------------------------------------------------------------\n",
      "SE.XPD.TOTL.GB.ZS  Government expenditure on education, total (% of government expenditure)\n",
      "SE.XPD.TOTL.GD.ZS  Government expenditure on education, total (% of GDP)\n",
      "                   2 elements\n"
     ]
    }
   ],
   "source": [
    "data = wb.series.info(q=\"Government expenditure on education, total\")\n",
    "print(data)"
   ]
  },
  {
   "cell_type": "code",
   "execution_count": 16,
   "metadata": {},
   "outputs": [],
   "source": [
    "# independent variables for the model\n",
    "inflation_data_id = \"FP.CPI.TOTL.ZG\"\n",
    "gfcf_data_id = \"NE.GDI.FTOT.ZS\"\n",
    "gov_exp_data_id = \"SE.XPD.TOTL.GB.ZS\"\n",
    "life_expectancy_data_id = \"SP.DYN.LE00.IN\"\n",
    "\n",
    "# dependent variable for the model\n",
    "gdp_per_capita_data_id = \"NY.GDP.PCAP.PP.CD\""
   ]
  },
  {
   "cell_type": "code",
   "execution_count": 17,
   "metadata": {},
   "outputs": [],
   "source": [
    "european_country_codes = [\n",
    "    \"ALB\", \"AND\", \"AUT\", \"BEL\", \"BGR\", \"BIH\", \"BLR\", \"CHE\", \"CYP\", \"CZE\", \"DEU\", \n",
    "    \"DNK\", \"ESP\", \"EST\", \"FIN\", \"FRA\", \"GBR\", \"GEO\", \"GRC\", \"HRV\", \"HUN\", \"IRL\", \n",
    "    \"ISL\", \"ITA\", \"KAZ\", \"KGZ\", \"XKX\", \"LVA\", \"LIE\", \"LTU\", \"LUX\", \"MCO\", \"MDA\", \n",
    "    \"MKD\", \"MLT\", \"MNE\", \"NLD\", \"NOR\", \"POL\", \"PRT\", \"ROU\", \"RUS\", \"SMR\", \"SRB\", \n",
    "    \"SVK\", \"SVN\", \"SWE\", \"TUR\", \"UKR\", \"VAT\"\n",
    "]\n"
   ]
  },
  {
   "cell_type": "code",
   "execution_count": 18,
   "metadata": {},
   "outputs": [],
   "source": [
    "# let's now fetch the data\n",
    "inflation_data = wb.data.DataFrame(inflation_data_id, time=range(2000, 2020), labels=True)\n",
    "gfcf_data = wb.data.DataFrame(gfcf_data_id, time=range(2000, 2020), labels=True)\n",
    "gov_exp_data = wb.data.DataFrame(gov_exp_data_id, time=range(2000, 2020), labels=True)\n",
    "life_expectancy_data = wb.data.DataFrame(life_expectancy_data_id, time=range(2000, 2020), labels=True)\n",
    "gdp_per_capita_data = wb.data.DataFrame(gdp_per_capita_data_id, time=range(2000, 2020), labels=True)\n"
   ]
  },
  {
   "cell_type": "markdown",
   "metadata": {},
   "source": [
    "# Preparation of every dataset then merging"
   ]
  },
  {
   "cell_type": "code",
   "execution_count": 19,
   "metadata": {},
   "outputs": [],
   "source": [
    "gfcf_data = gfcf_data.reset_index()\n",
    "gfcf_data = gfcf_data[gfcf_data[\"economy\"].isin(european_country_codes)]\n",
    "gfcf_data = gfcf_data.rename(columns={\"economy\": \"country_code\"})\n",
    "df_long_gfcf = pd.melt(gfcf_data, id_vars=['country_code', 'Country'], var_name='Year', value_name='GFCF')\n",
    "\n",
    "inflation_data = inflation_data.reset_index()\n",
    "inflation_data = inflation_data[inflation_data[\"economy\"].isin(european_country_codes)]\n",
    "inflation_data = inflation_data.rename(columns={\"economy\": \"country_code\"})\n",
    "df_long_inflation = pd.melt(inflation_data, id_vars=['country_code', 'Country'], var_name='Year', value_name='Inflation')\n",
    "\n",
    "gov_exp_data = gov_exp_data.reset_index()\n",
    "gov_exp_data = gov_exp_data[gov_exp_data[\"economy\"].isin(european_country_codes)]\n",
    "gov_exp_data = gov_exp_data.rename(columns={\"economy\": \"country_code\"})\n",
    "df_long_gov_exp = pd.melt(gov_exp_data, id_vars=['country_code', 'Country'], var_name='Year', value_name='Government Expenditure on Education')\n",
    "\n",
    "\n",
    "life_expectancy_data = life_expectancy_data.reset_index()\n",
    "life_expectancy_data = life_expectancy_data[life_expectancy_data[\"economy\"].isin(european_country_codes)]\n",
    "life_expectancy_data = life_expectancy_data.rename(columns={\"economy\": \"country_code\"})\n",
    "df_long_life_expectancy = pd.melt(life_expectancy_data, id_vars=['country_code', 'Country'], var_name='Year', value_name='Life Expectancy')\n",
    "\n",
    "gdp_per_capita_data = gdp_per_capita_data.reset_index()\n",
    "gdp_per_capita_data = gdp_per_capita_data[gdp_per_capita_data[\"economy\"].isin(european_country_codes)]\n",
    "gdp_per_capita_data = gdp_per_capita_data.rename(columns={\"economy\": \"country_code\"})\n",
    "df_long_gdp_per_capita = pd.melt(gdp_per_capita_data, id_vars=['country_code', 'Country'], var_name='Year', value_name='GDP per Capita')"
   ]
  },
  {
   "cell_type": "code",
   "execution_count": 20,
   "metadata": {},
   "outputs": [
    {
     "data": {
      "text/html": [
       "<div>\n",
       "<style scoped>\n",
       "    .dataframe tbody tr th:only-of-type {\n",
       "        vertical-align: middle;\n",
       "    }\n",
       "\n",
       "    .dataframe tbody tr th {\n",
       "        vertical-align: top;\n",
       "    }\n",
       "\n",
       "    .dataframe thead th {\n",
       "        text-align: right;\n",
       "    }\n",
       "</style>\n",
       "<table border=\"1\" class=\"dataframe\">\n",
       "  <thead>\n",
       "    <tr style=\"text-align: right;\">\n",
       "      <th></th>\n",
       "      <th>country_code</th>\n",
       "      <th>Country</th>\n",
       "      <th>Year</th>\n",
       "      <th>Inflation</th>\n",
       "      <th>GFCF</th>\n",
       "      <th>Government Expenditure on Education</th>\n",
       "      <th>Life Expectancy</th>\n",
       "      <th>GDP per Capita</th>\n",
       "    </tr>\n",
       "  </thead>\n",
       "  <tbody>\n",
       "    <tr>\n",
       "      <th>0</th>\n",
       "      <td>GBR</td>\n",
       "      <td>United Kingdom</td>\n",
       "      <td>YR2000</td>\n",
       "      <td>1.182956</td>\n",
       "      <td>17.809370</td>\n",
       "      <td>NaN</td>\n",
       "      <td>77.741463</td>\n",
       "      <td>26529.852173</td>\n",
       "    </tr>\n",
       "    <tr>\n",
       "      <th>1</th>\n",
       "      <td>UKR</td>\n",
       "      <td>Ukraine</td>\n",
       "      <td>YR2000</td>\n",
       "      <td>28.203097</td>\n",
       "      <td>19.744731</td>\n",
       "      <td>NaN</td>\n",
       "      <td>67.675610</td>\n",
       "      <td>4260.276855</td>\n",
       "    </tr>\n",
       "    <tr>\n",
       "      <th>2</th>\n",
       "      <td>TUR</td>\n",
       "      <td>Turkiye</td>\n",
       "      <td>YR2000</td>\n",
       "      <td>54.915371</td>\n",
       "      <td>22.211352</td>\n",
       "      <td>NaN</td>\n",
       "      <td>71.861000</td>\n",
       "      <td>9498.964414</td>\n",
       "    </tr>\n",
       "    <tr>\n",
       "      <th>3</th>\n",
       "      <td>CHE</td>\n",
       "      <td>Switzerland</td>\n",
       "      <td>YR2000</td>\n",
       "      <td>1.558529</td>\n",
       "      <td>27.512043</td>\n",
       "      <td>NaN</td>\n",
       "      <td>79.680488</td>\n",
       "      <td>36695.207055</td>\n",
       "    </tr>\n",
       "    <tr>\n",
       "      <th>4</th>\n",
       "      <td>SWE</td>\n",
       "      <td>Sweden</td>\n",
       "      <td>YR2000</td>\n",
       "      <td>0.899144</td>\n",
       "      <td>22.259817</td>\n",
       "      <td>NaN</td>\n",
       "      <td>79.643902</td>\n",
       "      <td>29622.038475</td>\n",
       "    </tr>\n",
       "    <tr>\n",
       "      <th>...</th>\n",
       "      <td>...</td>\n",
       "      <td>...</td>\n",
       "      <td>...</td>\n",
       "      <td>...</td>\n",
       "      <td>...</td>\n",
       "      <td>...</td>\n",
       "      <td>...</td>\n",
       "      <td>...</td>\n",
       "    </tr>\n",
       "    <tr>\n",
       "      <th>975</th>\n",
       "      <td>BEL</td>\n",
       "      <td>Belgium</td>\n",
       "      <td>YR2019</td>\n",
       "      <td>1.436820</td>\n",
       "      <td>24.283451</td>\n",
       "      <td>11.817001</td>\n",
       "      <td>81.995122</td>\n",
       "      <td>56621.541761</td>\n",
       "    </tr>\n",
       "    <tr>\n",
       "      <th>976</th>\n",
       "      <td>BLR</td>\n",
       "      <td>Belarus</td>\n",
       "      <td>YR2019</td>\n",
       "      <td>5.598156</td>\n",
       "      <td>27.034409</td>\n",
       "      <td>13.078263</td>\n",
       "      <td>74.226829</td>\n",
       "      <td>22301.576689</td>\n",
       "    </tr>\n",
       "    <tr>\n",
       "      <th>977</th>\n",
       "      <td>AUT</td>\n",
       "      <td>Austria</td>\n",
       "      <td>YR2019</td>\n",
       "      <td>1.530896</td>\n",
       "      <td>24.914393</td>\n",
       "      <td>9.881763</td>\n",
       "      <td>81.895122</td>\n",
       "      <td>60574.627103</td>\n",
       "    </tr>\n",
       "    <tr>\n",
       "      <th>978</th>\n",
       "      <td>AND</td>\n",
       "      <td>Andorra</td>\n",
       "      <td>YR2019</td>\n",
       "      <td>NaN</td>\n",
       "      <td>NaN</td>\n",
       "      <td>10.895240</td>\n",
       "      <td>NaN</td>\n",
       "      <td>57573.693049</td>\n",
       "    </tr>\n",
       "    <tr>\n",
       "      <th>979</th>\n",
       "      <td>ALB</td>\n",
       "      <td>Albania</td>\n",
       "      <td>YR2019</td>\n",
       "      <td>1.411091</td>\n",
       "      <td>22.313298</td>\n",
       "      <td>11.400180</td>\n",
       "      <td>79.282000</td>\n",
       "      <td>14618.300610</td>\n",
       "    </tr>\n",
       "  </tbody>\n",
       "</table>\n",
       "<p>980 rows × 8 columns</p>\n",
       "</div>"
      ],
      "text/plain": [
       "    country_code         Country    Year  Inflation       GFCF  \\\n",
       "0            GBR  United Kingdom  YR2000   1.182956  17.809370   \n",
       "1            UKR         Ukraine  YR2000  28.203097  19.744731   \n",
       "2            TUR         Turkiye  YR2000  54.915371  22.211352   \n",
       "3            CHE     Switzerland  YR2000   1.558529  27.512043   \n",
       "4            SWE          Sweden  YR2000   0.899144  22.259817   \n",
       "..           ...             ...     ...        ...        ...   \n",
       "975          BEL         Belgium  YR2019   1.436820  24.283451   \n",
       "976          BLR         Belarus  YR2019   5.598156  27.034409   \n",
       "977          AUT         Austria  YR2019   1.530896  24.914393   \n",
       "978          AND         Andorra  YR2019        NaN        NaN   \n",
       "979          ALB         Albania  YR2019   1.411091  22.313298   \n",
       "\n",
       "     Government Expenditure on Education  Life Expectancy  GDP per Capita  \n",
       "0                                    NaN        77.741463    26529.852173  \n",
       "1                                    NaN        67.675610     4260.276855  \n",
       "2                                    NaN        71.861000     9498.964414  \n",
       "3                                    NaN        79.680488    36695.207055  \n",
       "4                                    NaN        79.643902    29622.038475  \n",
       "..                                   ...              ...             ...  \n",
       "975                            11.817001        81.995122    56621.541761  \n",
       "976                            13.078263        74.226829    22301.576689  \n",
       "977                             9.881763        81.895122    60574.627103  \n",
       "978                            10.895240              NaN    57573.693049  \n",
       "979                            11.400180        79.282000    14618.300610  \n",
       "\n",
       "[980 rows x 8 columns]"
      ]
     },
     "execution_count": 20,
     "metadata": {},
     "output_type": "execute_result"
    }
   ],
   "source": [
    "# let's merge all the dataframes\n",
    "df_long = df_long_inflation.merge(df_long_gfcf, on=['country_code', 'Country', 'Year'])\n",
    "df_long = df_long.merge(df_long_gov_exp, on=['country_code', 'Country', 'Year'])\n",
    "df_long = df_long.merge(df_long_life_expectancy, on=['country_code', 'Country', 'Year'])\n",
    "df_long = df_long.merge(df_long_gdp_per_capita, on=['country_code', 'Country', 'Year'])\n",
    "\n",
    "df_long\n"
   ]
  },
  {
   "cell_type": "code",
   "execution_count": 21,
   "metadata": {},
   "outputs": [],
   "source": [
    "# Renaming the columns\n",
    "df_long = df_long.rename(columns={\"Country\": \"country\", \"Year\": \"year\", \"Government Expenditure on Education\": \"gov_exp\", \"GDP per Capita\": \"gdp_per_capita\", \"Life Expectancy\": \"life_expectancy\", \"Inflation\": \"inflation\", \"GFCF\": \"gfcf\"})"
   ]
  },
  {
   "cell_type": "code",
   "execution_count": 22,
   "metadata": {},
   "outputs": [
    {
     "data": {
      "text/plain": [
       "country_code       0\n",
       "country            0\n",
       "year               0\n",
       "inflation          0\n",
       "gfcf               0\n",
       "gov_exp            0\n",
       "life_expectancy    0\n",
       "gdp_per_capita     0\n",
       "dtype: int64"
      ]
     },
     "execution_count": 22,
     "metadata": {},
     "output_type": "execute_result"
    }
   ],
   "source": [
    "# let's drop rows that have missing values\n",
    "df_long = df_long.dropna()\n",
    "df_long.isnull().sum()"
   ]
  },
  {
   "cell_type": "markdown",
   "metadata": {},
   "source": [
    "# Remove outliers"
   ]
  },
  {
   "cell_type": "code",
   "execution_count": 23,
   "metadata": {},
   "outputs": [
    {
     "name": "stdout",
     "output_type": "stream",
     "text": [
      "Original DataFrame shape: (588, 8)\n",
      "Cleaned DataFrame shape: (573, 8)\n"
     ]
    }
   ],
   "source": [
    "# Calculate the mean and standard deviation\n",
    "mean_val = df_long['gfcf'].mean()\n",
    "std_dev = df_long['gfcf'].std()\n",
    "\n",
    "# Define a function to identify outliers based on z-score\n",
    "def remove_outliers(df, column_name, z_thresh=2.5):\n",
    "    z_scores = np.abs((df[column_name] - mean_val) / std_dev)\n",
    "    df_cleaned = df[z_scores < z_thresh]\n",
    "    return df_cleaned\n",
    "\n",
    "# Remove outliers from the DataFrame\n",
    "df_cleaned = remove_outliers(df_long, 'gfcf')\n",
    "\n",
    "# Check the shape of the cleaned DataFrame to see how many outliers were removed\n",
    "print(\"Original DataFrame shape:\", df_long.shape)\n",
    "print(\"Cleaned DataFrame shape:\", df_cleaned.shape)\n"
   ]
  },
  {
   "cell_type": "code",
   "execution_count": 24,
   "metadata": {},
   "outputs": [],
   "source": [
    "# let's write out to a csv file\n",
    "df_cleaned.to_csv(\"european_countries_data.csv\", index=False)"
   ]
  },
  {
   "cell_type": "code",
   "execution_count": null,
   "metadata": {},
   "outputs": [],
   "source": []
  }
 ],
 "metadata": {
  "kernelspec": {
   "display_name": "Python 3",
   "language": "python",
   "name": "python3"
  },
  "language_info": {
   "codemirror_mode": {
    "name": "ipython",
    "version": 3
   },
   "file_extension": ".py",
   "mimetype": "text/x-python",
   "name": "python",
   "nbconvert_exporter": "python",
   "pygments_lexer": "ipython3",
   "version": "3.10.6"
  }
 },
 "nbformat": 4,
 "nbformat_minor": 2
}
